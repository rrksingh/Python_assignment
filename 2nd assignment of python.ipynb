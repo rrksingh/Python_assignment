{
 "cells": [
  {
   "cell_type": "markdown",
   "id": "cad430cc",
   "metadata": {},
   "source": [
    "# Python Assignment 2"
   ]
  },
  {
   "cell_type": "markdown",
   "id": "c25eef97",
   "metadata": {},
   "source": [
    "## Q1 :Create an empty list. Prompt the user to enter a city name in India. Append the city names in the list. Repeat until 5 cities"
   ]
  },
  {
   "cell_type": "code",
   "execution_count": 1,
   "id": "7e22e0c1",
   "metadata": {},
   "outputs": [],
   "source": [
    "city=[]"
   ]
  },
  {
   "cell_type": "code",
   "execution_count": 2,
   "id": "38e68894",
   "metadata": {},
   "outputs": [
    {
     "name": "stdout",
     "output_type": "stream",
     "text": [
      "enter city name:Delhi\n"
     ]
    }
   ],
   "source": [
    "city=[input('enter city name:')]"
   ]
  },
  {
   "cell_type": "code",
   "execution_count": 3,
   "id": "c8e8ddb4",
   "metadata": {},
   "outputs": [
    {
     "data": {
      "text/plain": [
       "['Delhi']"
      ]
     },
     "execution_count": 3,
     "metadata": {},
     "output_type": "execute_result"
    }
   ],
   "source": [
    "city"
   ]
  },
  {
   "cell_type": "code",
   "execution_count": 4,
   "id": "b21bc80d",
   "metadata": {},
   "outputs": [],
   "source": [
    "city.append('Patna')"
   ]
  },
  {
   "cell_type": "code",
   "execution_count": 5,
   "id": "9a3c7fc4",
   "metadata": {},
   "outputs": [],
   "source": [
    "city.append('Ranchi')"
   ]
  },
  {
   "cell_type": "code",
   "execution_count": 6,
   "id": "c7b09aae",
   "metadata": {},
   "outputs": [],
   "source": [
    "city.append('Kanpur')"
   ]
  },
  {
   "cell_type": "code",
   "execution_count": 7,
   "id": "b9f270af",
   "metadata": {},
   "outputs": [],
   "source": [
    "city.append('Bhopal')"
   ]
  },
  {
   "cell_type": "code",
   "execution_count": 8,
   "id": "cb2eea39",
   "metadata": {},
   "outputs": [],
   "source": [
    "city.append('Srinagar')"
   ]
  },
  {
   "cell_type": "code",
   "execution_count": 9,
   "id": "a6738af2",
   "metadata": {},
   "outputs": [
    {
     "data": {
      "text/plain": [
       "['Delhi', 'Patna', 'Ranchi', 'Kanpur', 'Bhopal', 'Srinagar']"
      ]
     },
     "execution_count": 9,
     "metadata": {},
     "output_type": "execute_result"
    }
   ],
   "source": [
    "city"
   ]
  },
  {
   "cell_type": "markdown",
   "id": "1846bc75",
   "metadata": {},
   "source": [
    "## Q2 :  Print the index of all the cities."
   ]
  },
  {
   "cell_type": "code",
   "execution_count": 10,
   "id": "24c6efc4",
   "metadata": {},
   "outputs": [
    {
     "data": {
      "text/plain": [
       "['Delhi', 'Patna', 'Ranchi', 'Kanpur', 'Bhopal', 'Srinagar']"
      ]
     },
     "execution_count": 10,
     "metadata": {},
     "output_type": "execute_result"
    }
   ],
   "source": [
    "city"
   ]
  },
  {
   "cell_type": "code",
   "execution_count": 11,
   "id": "47ddf7ff",
   "metadata": {},
   "outputs": [
    {
     "data": {
      "text/plain": [
       "0"
      ]
     },
     "execution_count": 11,
     "metadata": {},
     "output_type": "execute_result"
    }
   ],
   "source": [
    "city.index('Delhi')"
   ]
  },
  {
   "cell_type": "code",
   "execution_count": 12,
   "id": "3572c0fd",
   "metadata": {},
   "outputs": [
    {
     "data": {
      "text/plain": [
       "1"
      ]
     },
     "execution_count": 12,
     "metadata": {},
     "output_type": "execute_result"
    }
   ],
   "source": [
    "city.index('Patna')"
   ]
  },
  {
   "cell_type": "code",
   "execution_count": 13,
   "id": "78042f95",
   "metadata": {},
   "outputs": [
    {
     "data": {
      "text/plain": [
       "2"
      ]
     },
     "execution_count": 13,
     "metadata": {},
     "output_type": "execute_result"
    }
   ],
   "source": [
    "city.index('Ranchi')"
   ]
  },
  {
   "cell_type": "code",
   "execution_count": 14,
   "id": "710370b0",
   "metadata": {},
   "outputs": [
    {
     "data": {
      "text/plain": [
       "3"
      ]
     },
     "execution_count": 14,
     "metadata": {},
     "output_type": "execute_result"
    }
   ],
   "source": [
    "city.index('Kanpur')"
   ]
  },
  {
   "cell_type": "code",
   "execution_count": 15,
   "id": "85ef1170",
   "metadata": {},
   "outputs": [
    {
     "data": {
      "text/plain": [
       "4"
      ]
     },
     "execution_count": 15,
     "metadata": {},
     "output_type": "execute_result"
    }
   ],
   "source": [
    "city.index('Bhopal')"
   ]
  },
  {
   "cell_type": "code",
   "execution_count": 16,
   "id": "f8d96801",
   "metadata": {},
   "outputs": [
    {
     "data": {
      "text/plain": [
       "5"
      ]
     },
     "execution_count": 16,
     "metadata": {},
     "output_type": "execute_result"
    }
   ],
   "source": [
    "city.index('Srinagar')"
   ]
  },
  {
   "cell_type": "markdown",
   "id": "8b6996b8",
   "metadata": {},
   "source": [
    " ## Q3 :  Swap the first and last cities"
   ]
  },
  {
   "cell_type": "code",
   "execution_count": 17,
   "id": "c24aa006",
   "metadata": {},
   "outputs": [
    {
     "data": {
      "text/plain": [
       "['Delhi', 'Patna', 'Ranchi', 'Kanpur', 'Bhopal', 'Srinagar']"
      ]
     },
     "execution_count": 17,
     "metadata": {},
     "output_type": "execute_result"
    }
   ],
   "source": [
    "city"
   ]
  },
  {
   "cell_type": "code",
   "execution_count": 18,
   "id": "55150fb8",
   "metadata": {},
   "outputs": [],
   "source": [
    "city[0],city[-1]=city[-1],city[0]"
   ]
  },
  {
   "cell_type": "code",
   "execution_count": 19,
   "id": "175ac8c4",
   "metadata": {},
   "outputs": [
    {
     "data": {
      "text/plain": [
       "['Srinagar', 'Patna', 'Ranchi', 'Kanpur', 'Bhopal', 'Delhi']"
      ]
     },
     "execution_count": 19,
     "metadata": {},
     "output_type": "execute_result"
    }
   ],
   "source": [
    "city"
   ]
  },
  {
   "cell_type": "markdown",
   "id": "18426915",
   "metadata": {},
   "source": [
    "## Q4 : Change the cities in the third and fourth position to ‘Berlin’ and ‘Rome’.\n"
   ]
  },
  {
   "cell_type": "code",
   "execution_count": 20,
   "id": "0b5d6649",
   "metadata": {},
   "outputs": [
    {
     "data": {
      "text/plain": [
       "['Srinagar', 'Patna', 'Ranchi', 'Kanpur', 'Bhopal', 'Delhi']"
      ]
     },
     "execution_count": 20,
     "metadata": {},
     "output_type": "execute_result"
    }
   ],
   "source": [
    "city"
   ]
  },
  {
   "cell_type": "code",
   "execution_count": 21,
   "id": "a84f7bf8",
   "metadata": {},
   "outputs": [],
   "source": [
    "city.insert(3,'Berlin')"
   ]
  },
  {
   "cell_type": "code",
   "execution_count": 22,
   "id": "a5e01797",
   "metadata": {},
   "outputs": [],
   "source": [
    "city.insert(4,'Rome')"
   ]
  },
  {
   "cell_type": "code",
   "execution_count": 23,
   "id": "61bc0477",
   "metadata": {},
   "outputs": [
    {
     "data": {
      "text/plain": [
       "['Srinagar', 'Patna', 'Ranchi', 'Berlin', 'Rome', 'Kanpur', 'Bhopal', 'Delhi']"
      ]
     },
     "execution_count": 23,
     "metadata": {},
     "output_type": "execute_result"
    }
   ],
   "source": [
    "city"
   ]
  },
  {
   "cell_type": "markdown",
   "id": "4e5b6536",
   "metadata": {},
   "source": [
    "## Q5 :Slice the names Berlin and Rome and store in a new list for international cities.\n"
   ]
  },
  {
   "cell_type": "code",
   "execution_count": 24,
   "id": "9ca8ea93",
   "metadata": {},
   "outputs": [
    {
     "data": {
      "text/plain": [
       "['Srinagar', 'Patna', 'Ranchi', 'Berlin', 'Rome', 'Kanpur', 'Bhopal', 'Delhi']"
      ]
     },
     "execution_count": 24,
     "metadata": {},
     "output_type": "execute_result"
    }
   ],
   "source": [
    "city"
   ]
  },
  {
   "cell_type": "code",
   "execution_count": 25,
   "id": "0f4a41e0",
   "metadata": {},
   "outputs": [],
   "source": [
    "new_international_city=city[3:5]"
   ]
  },
  {
   "cell_type": "code",
   "execution_count": 26,
   "id": "edf8a122",
   "metadata": {},
   "outputs": [
    {
     "data": {
      "text/plain": [
       "['Berlin', 'Rome']"
      ]
     },
     "execution_count": 26,
     "metadata": {},
     "output_type": "execute_result"
    }
   ],
   "source": [
    "new_international_city"
   ]
  },
  {
   "cell_type": "code",
   "execution_count": 27,
   "id": "2d7e1784",
   "metadata": {},
   "outputs": [
    {
     "data": {
      "text/plain": [
       "'Berlin'"
      ]
     },
     "execution_count": 27,
     "metadata": {},
     "output_type": "execute_result"
    }
   ],
   "source": [
    "city.pop(3)"
   ]
  },
  {
   "cell_type": "code",
   "execution_count": 28,
   "id": "d92cf93f",
   "metadata": {},
   "outputs": [
    {
     "data": {
      "text/plain": [
       "'Rome'"
      ]
     },
     "execution_count": 28,
     "metadata": {},
     "output_type": "execute_result"
    }
   ],
   "source": [
    "city.pop(3)"
   ]
  },
  {
   "cell_type": "markdown",
   "id": "31287918",
   "metadata": {},
   "source": [
    "## Q6 : Prompt the user to enter 3 more international cities"
   ]
  },
  {
   "cell_type": "code",
   "execution_count": 29,
   "id": "f74abdf3",
   "metadata": {},
   "outputs": [
    {
     "data": {
      "text/plain": [
       "['Berlin', 'Rome']"
      ]
     },
     "execution_count": 29,
     "metadata": {},
     "output_type": "execute_result"
    }
   ],
   "source": [
    "new_international_city"
   ]
  },
  {
   "cell_type": "code",
   "execution_count": 30,
   "id": "238527a8",
   "metadata": {},
   "outputs": [
    {
     "name": "stdout",
     "output_type": "stream",
     "text": [
      "enter 1st city name:London\n",
      "enter 2nd city name:Paris\n",
      "enter 3rd city name:Hong Kong\n"
     ]
    }
   ],
   "source": [
    "new_city=[input('enter 1st city name:'),\n",
    "          input('enter 2nd city name:'),\n",
    "          input('enter 3rd city name:')]"
   ]
  },
  {
   "cell_type": "code",
   "execution_count": 31,
   "id": "7c8e5848",
   "metadata": {},
   "outputs": [],
   "source": [
    "new_international_city.extend(new_city)"
   ]
  },
  {
   "cell_type": "code",
   "execution_count": 32,
   "id": "00c3675e",
   "metadata": {},
   "outputs": [
    {
     "data": {
      "text/plain": [
       "['Berlin', 'Rome', 'London', 'Paris', 'Hong Kong']"
      ]
     },
     "execution_count": 32,
     "metadata": {},
     "output_type": "execute_result"
    }
   ],
   "source": [
    "new_international_city"
   ]
  },
  {
   "cell_type": "markdown",
   "id": "28eb10c8",
   "metadata": {},
   "source": [
    "## Q7: Print the length of both the lists.\n"
   ]
  },
  {
   "cell_type": "code",
   "execution_count": 33,
   "id": "f0cfe3bd",
   "metadata": {},
   "outputs": [
    {
     "data": {
      "text/plain": [
       "['Srinagar', 'Patna', 'Ranchi', 'Kanpur', 'Bhopal', 'Delhi']"
      ]
     },
     "execution_count": 33,
     "metadata": {},
     "output_type": "execute_result"
    }
   ],
   "source": [
    "city"
   ]
  },
  {
   "cell_type": "code",
   "execution_count": 34,
   "id": "38cd8fff",
   "metadata": {},
   "outputs": [
    {
     "data": {
      "text/plain": [
       "6"
      ]
     },
     "execution_count": 34,
     "metadata": {},
     "output_type": "execute_result"
    }
   ],
   "source": [
    "len(city)"
   ]
  },
  {
   "cell_type": "code",
   "execution_count": 35,
   "id": "b773b0a3",
   "metadata": {},
   "outputs": [
    {
     "data": {
      "text/plain": [
       "5"
      ]
     },
     "execution_count": 35,
     "metadata": {},
     "output_type": "execute_result"
    }
   ],
   "source": [
    "len(new_international_city)"
   ]
  },
  {
   "cell_type": "markdown",
   "id": "2d8ab681",
   "metadata": {},
   "source": [
    "## Q8 : Combine both the list with International cities first then reverse the list.The final list should have Indian cities first then international cities."
   ]
  },
  {
   "cell_type": "code",
   "execution_count": 36,
   "id": "702b4a9e",
   "metadata": {},
   "outputs": [],
   "source": [
    "new_international_city.extend(city)"
   ]
  },
  {
   "cell_type": "code",
   "execution_count": 37,
   "id": "1f448c10",
   "metadata": {},
   "outputs": [
    {
     "data": {
      "text/plain": [
       "['Berlin',\n",
       " 'Rome',\n",
       " 'London',\n",
       " 'Paris',\n",
       " 'Hong Kong',\n",
       " 'Srinagar',\n",
       " 'Patna',\n",
       " 'Ranchi',\n",
       " 'Kanpur',\n",
       " 'Bhopal',\n",
       " 'Delhi']"
      ]
     },
     "execution_count": 37,
     "metadata": {},
     "output_type": "execute_result"
    }
   ],
   "source": [
    "new_international_city"
   ]
  },
  {
   "cell_type": "code",
   "execution_count": 38,
   "id": "59d84dbf",
   "metadata": {},
   "outputs": [],
   "source": [
    "new_international_city.reverse()"
   ]
  },
  {
   "cell_type": "code",
   "execution_count": 39,
   "id": "fa373ea3",
   "metadata": {},
   "outputs": [
    {
     "data": {
      "text/plain": [
       "['Delhi',\n",
       " 'Bhopal',\n",
       " 'Kanpur',\n",
       " 'Ranchi',\n",
       " 'Patna',\n",
       " 'Srinagar',\n",
       " 'Hong Kong',\n",
       " 'Paris',\n",
       " 'London',\n",
       " 'Rome',\n",
       " 'Berlin']"
      ]
     },
     "execution_count": 39,
     "metadata": {},
     "output_type": "execute_result"
    }
   ],
   "source": [
    "new_international_city"
   ]
  },
  {
   "cell_type": "markdown",
   "id": "cf59a31d",
   "metadata": {},
   "source": [
    "## Q9 :Remove the city at the third position.\n"
   ]
  },
  {
   "cell_type": "code",
   "execution_count": 40,
   "id": "e7455b00",
   "metadata": {},
   "outputs": [
    {
     "data": {
      "text/plain": [
       "['Delhi',\n",
       " 'Bhopal',\n",
       " 'Kanpur',\n",
       " 'Ranchi',\n",
       " 'Patna',\n",
       " 'Srinagar',\n",
       " 'Hong Kong',\n",
       " 'Paris',\n",
       " 'London',\n",
       " 'Rome',\n",
       " 'Berlin']"
      ]
     },
     "execution_count": 40,
     "metadata": {},
     "output_type": "execute_result"
    }
   ],
   "source": [
    "new_international_city"
   ]
  },
  {
   "cell_type": "code",
   "execution_count": 41,
   "id": "2f7b69fd",
   "metadata": {},
   "outputs": [
    {
     "data": {
      "text/plain": [
       "'Ranchi'"
      ]
     },
     "execution_count": 41,
     "metadata": {},
     "output_type": "execute_result"
    }
   ],
   "source": [
    "new_international_city.pop(3)"
   ]
  },
  {
   "cell_type": "code",
   "execution_count": 42,
   "id": "0175a5ec",
   "metadata": {},
   "outputs": [
    {
     "data": {
      "text/plain": [
       "['Delhi',\n",
       " 'Bhopal',\n",
       " 'Kanpur',\n",
       " 'Patna',\n",
       " 'Srinagar',\n",
       " 'Hong Kong',\n",
       " 'Paris',\n",
       " 'London',\n",
       " 'Rome',\n",
       " 'Berlin']"
      ]
     },
     "execution_count": 42,
     "metadata": {},
     "output_type": "execute_result"
    }
   ],
   "source": [
    "new_international_city"
   ]
  },
  {
   "cell_type": "markdown",
   "id": "2a1fdaec",
   "metadata": {},
   "source": [
    "## Q10: Below is given a list of words. Combine them to for a String sentence in upper case"
   ]
  },
  {
   "cell_type": "code",
   "execution_count": 43,
   "id": "cd0d6f55",
   "metadata": {},
   "outputs": [],
   "source": [
    "text=['Delhi', 'is', 'a', 'bustling', 'metropolis', 'that', 'seamlessly'\n",
    "      , 'blends', 'a', 'rich', 'historical'\n",
    "      , 'past', 'with',\n",
    "'the', 'modern', 'world.', 'It', 'has', 'a', 'deep-rooted', 'history'\n",
    "      , 'dating', 'back', 'thousands', 'of', 'years,',\n",
    "'making', 'it', 'one', 'of', 'the', 'oldest', 'continuously'\n",
    "      , 'inhabited', 'cities', 'in', 'the', 'world.']"
   ]
  },
  {
   "cell_type": "code",
   "execution_count": 44,
   "id": "923b6330",
   "metadata": {},
   "outputs": [
    {
     "name": "stdout",
     "output_type": "stream",
     "text": [
      "['Delhi', 'is', 'a', 'bustling', 'metropolis', 'that', 'seamlessly', 'blends', 'a', 'rich', 'historical', 'past', 'with', 'the', 'modern', 'world.', 'It', 'has', 'a', 'deep-rooted', 'history', 'dating', 'back', 'thousands', 'of', 'years,', 'making', 'it', 'one', 'of', 'the', 'oldest', 'continuously', 'inhabited', 'cities', 'in', 'the', 'world.']\n"
     ]
    }
   ],
   "source": [
    "print(text)"
   ]
  },
  {
   "cell_type": "code",
   "execution_count": 45,
   "id": "339d2d01",
   "metadata": {},
   "outputs": [],
   "source": [
    "string=' '.join(text)"
   ]
  },
  {
   "cell_type": "code",
   "execution_count": 46,
   "id": "f0961d64",
   "metadata": {},
   "outputs": [
    {
     "name": "stdout",
     "output_type": "stream",
     "text": [
      "Delhi is a bustling metropolis that seamlessly blends a rich historical past with the modern world. It has a deep-rooted history dating back thousands of years, making it one of the oldest continuously inhabited cities in the world.\n"
     ]
    }
   ],
   "source": [
    "print(string)"
   ]
  },
  {
   "cell_type": "code",
   "execution_count": 47,
   "id": "2299de8e",
   "metadata": {},
   "outputs": [
    {
     "data": {
      "text/plain": [
       "'DELHI IS A BUSTLING METROPOLIS THAT SEAMLESSLY BLENDS A RICH HISTORICAL PAST WITH THE MODERN WORLD. IT HAS A DEEP-ROOTED HISTORY DATING BACK THOUSANDS OF YEARS, MAKING IT ONE OF THE OLDEST CONTINUOUSLY INHABITED CITIES IN THE WORLD.'"
      ]
     },
     "execution_count": 47,
     "metadata": {},
     "output_type": "execute_result"
    }
   ],
   "source": [
    "string.upper()"
   ]
  },
  {
   "cell_type": "markdown",
   "id": "94e903e2",
   "metadata": {},
   "source": [
    "## Q11: Cast the final list of cities formed in the previous question into tuple"
   ]
  },
  {
   "cell_type": "code",
   "execution_count": 48,
   "id": "db75ccf9",
   "metadata": {},
   "outputs": [
    {
     "data": {
      "text/plain": [
       "['Delhi',\n",
       " 'Bhopal',\n",
       " 'Kanpur',\n",
       " 'Patna',\n",
       " 'Srinagar',\n",
       " 'Hong Kong',\n",
       " 'Paris',\n",
       " 'London',\n",
       " 'Rome',\n",
       " 'Berlin']"
      ]
     },
     "execution_count": 48,
     "metadata": {},
     "output_type": "execute_result"
    }
   ],
   "source": [
    "new_international_city"
   ]
  },
  {
   "cell_type": "code",
   "execution_count": 49,
   "id": "1d99ec46",
   "metadata": {},
   "outputs": [],
   "source": [
    "city_tuple=tuple(new_international_city)"
   ]
  },
  {
   "cell_type": "code",
   "execution_count": 50,
   "id": "15559a4e",
   "metadata": {},
   "outputs": [
    {
     "data": {
      "text/plain": [
       "('Delhi',\n",
       " 'Bhopal',\n",
       " 'Kanpur',\n",
       " 'Patna',\n",
       " 'Srinagar',\n",
       " 'Hong Kong',\n",
       " 'Paris',\n",
       " 'London',\n",
       " 'Rome',\n",
       " 'Berlin')"
      ]
     },
     "execution_count": 50,
     "metadata": {},
     "output_type": "execute_result"
    }
   ],
   "source": [
    "city_tuple"
   ]
  },
  {
   "cell_type": "markdown",
   "id": "4ac23fd3",
   "metadata": {},
   "source": [
    "## Q12: Slice the resulting tuple so as to get the first two cities .Then swap the position of first and last for both tuples "
   ]
  },
  {
   "cell_type": "code",
   "execution_count": 51,
   "id": "401ab52b",
   "metadata": {},
   "outputs": [],
   "source": [
    "smaller_tuple=city_tuple[0:2]"
   ]
  },
  {
   "cell_type": "code",
   "execution_count": 52,
   "id": "c341bd59",
   "metadata": {},
   "outputs": [
    {
     "data": {
      "text/plain": [
       "('Delhi', 'Bhopal')"
      ]
     },
     "execution_count": 52,
     "metadata": {},
     "output_type": "execute_result"
    }
   ],
   "source": [
    "smaller_tuple"
   ]
  },
  {
   "cell_type": "code",
   "execution_count": 53,
   "id": "09e18008",
   "metadata": {},
   "outputs": [
    {
     "data": {
      "text/plain": [
       "('Delhi',\n",
       " 'Bhopal',\n",
       " 'Kanpur',\n",
       " 'Patna',\n",
       " 'Srinagar',\n",
       " 'Hong Kong',\n",
       " 'Paris',\n",
       " 'London',\n",
       " 'Rome',\n",
       " 'Berlin')"
      ]
     },
     "execution_count": 53,
     "metadata": {},
     "output_type": "execute_result"
    }
   ],
   "source": [
    "city_tuple"
   ]
  },
  {
   "cell_type": "code",
   "execution_count": 56,
   "id": "775c7af3",
   "metadata": {},
   "outputs": [],
   "source": [
    "city_list= list(city_tuple)"
   ]
  },
  {
   "cell_type": "code",
   "execution_count": 57,
   "id": "fa06103d",
   "metadata": {},
   "outputs": [
    {
     "data": {
      "text/plain": [
       "['Delhi',\n",
       " 'Bhopal',\n",
       " 'Kanpur',\n",
       " 'Patna',\n",
       " 'Srinagar',\n",
       " 'Hong Kong',\n",
       " 'Paris',\n",
       " 'London',\n",
       " 'Rome',\n",
       " 'Berlin']"
      ]
     },
     "execution_count": 57,
     "metadata": {},
     "output_type": "execute_result"
    }
   ],
   "source": [
    "city_list"
   ]
  },
  {
   "cell_type": "code",
   "execution_count": 58,
   "id": "4d03448e",
   "metadata": {},
   "outputs": [],
   "source": [
    "city_list[0],city_list[-1]=city_list[-1],city_list[0]"
   ]
  },
  {
   "cell_type": "code",
   "execution_count": 59,
   "id": "b03de88c",
   "metadata": {},
   "outputs": [
    {
     "data": {
      "text/plain": [
       "['Berlin',\n",
       " 'Bhopal',\n",
       " 'Kanpur',\n",
       " 'Patna',\n",
       " 'Srinagar',\n",
       " 'Hong Kong',\n",
       " 'Paris',\n",
       " 'London',\n",
       " 'Rome',\n",
       " 'Delhi']"
      ]
     },
     "execution_count": 59,
     "metadata": {},
     "output_type": "execute_result"
    }
   ],
   "source": [
    "city_list"
   ]
  },
  {
   "cell_type": "code",
   "execution_count": 60,
   "id": "3780f7ef",
   "metadata": {},
   "outputs": [],
   "source": [
    "city_tuple=tuple(city_list)"
   ]
  },
  {
   "cell_type": "code",
   "execution_count": 61,
   "id": "20a1cadb",
   "metadata": {},
   "outputs": [
    {
     "data": {
      "text/plain": [
       "('Berlin',\n",
       " 'Bhopal',\n",
       " 'Kanpur',\n",
       " 'Patna',\n",
       " 'Srinagar',\n",
       " 'Hong Kong',\n",
       " 'Paris',\n",
       " 'London',\n",
       " 'Rome',\n",
       " 'Delhi')"
      ]
     },
     "execution_count": 61,
     "metadata": {},
     "output_type": "execute_result"
    }
   ],
   "source": [
    "city_tuple"
   ]
  },
  {
   "cell_type": "markdown",
   "id": "27a79557",
   "metadata": {},
   "source": [
    "## Q13:Check the length of both the tuples. Add any 5 international cities in the smaller tuple"
   ]
  },
  {
   "cell_type": "code",
   "execution_count": 62,
   "id": "70623ac6",
   "metadata": {},
   "outputs": [
    {
     "data": {
      "text/plain": [
       "2"
      ]
     },
     "execution_count": 62,
     "metadata": {},
     "output_type": "execute_result"
    }
   ],
   "source": [
    "len(smaller_tuple)"
   ]
  },
  {
   "cell_type": "code",
   "execution_count": 72,
   "id": "462f6482",
   "metadata": {},
   "outputs": [
    {
     "data": {
      "text/plain": [
       "10"
      ]
     },
     "execution_count": 72,
     "metadata": {},
     "output_type": "execute_result"
    }
   ],
   "source": [
    "len(city_tuple)"
   ]
  },
  {
   "cell_type": "code",
   "execution_count": 73,
   "id": "520f38d2",
   "metadata": {},
   "outputs": [
    {
     "data": {
      "text/plain": [
       "('Delhi', 'Bhopal')"
      ]
     },
     "execution_count": 73,
     "metadata": {},
     "output_type": "execute_result"
    }
   ],
   "source": [
    "smaller_tuple"
   ]
  },
  {
   "cell_type": "code",
   "execution_count": 79,
   "id": "06d017d8",
   "metadata": {},
   "outputs": [],
   "source": [
    "smaller= list (smaller_tuple)"
   ]
  },
  {
   "cell_type": "code",
   "execution_count": 80,
   "id": "d6338ac9",
   "metadata": {},
   "outputs": [
    {
     "name": "stdout",
     "output_type": "stream",
     "text": [
      "enter 1st city name:Bern\n",
      "enter 2nd city name:Brasilia\n",
      "enter 3rd city name:Doha\n",
      "enter 4th city name:Baku\n",
      "enter 5th city name:Dubai\n"
     ]
    }
   ],
   "source": [
    "add_5=[input('enter 1st city name:'),\n",
    "          input('enter 2nd city name:'),\n",
    "          input('enter 3rd city name:'),\n",
    "          input('enter 4th city name:'),\n",
    "          input('enter 5th city name:')]"
   ]
  },
  {
   "cell_type": "code",
   "execution_count": 81,
   "id": "8b89c324",
   "metadata": {},
   "outputs": [],
   "source": [
    "smaller.extend(add_5)"
   ]
  },
  {
   "cell_type": "code",
   "execution_count": 82,
   "id": "063e665f",
   "metadata": {},
   "outputs": [
    {
     "data": {
      "text/plain": [
       "['Delhi', 'Bhopal', 'Bern', 'Brasilia', 'Doha', 'Baku', 'Dubai']"
      ]
     },
     "execution_count": 82,
     "metadata": {},
     "output_type": "execute_result"
    }
   ],
   "source": [
    "smaller"
   ]
  },
  {
   "cell_type": "code",
   "execution_count": 83,
   "id": "2628b0a2",
   "metadata": {},
   "outputs": [],
   "source": [
    "smaller_tuple=tuple(smaller)"
   ]
  },
  {
   "cell_type": "code",
   "execution_count": 84,
   "id": "6b39a0c2",
   "metadata": {},
   "outputs": [
    {
     "data": {
      "text/plain": [
       "('Delhi', 'Bhopal', 'Bern', 'Brasilia', 'Doha', 'Baku', 'Dubai')"
      ]
     },
     "execution_count": 84,
     "metadata": {},
     "output_type": "execute_result"
    }
   ],
   "source": [
    "smaller_tuple"
   ]
  }
 ],
 "metadata": {
  "kernelspec": {
   "display_name": "Python 3 (ipykernel)",
   "language": "python",
   "name": "python3"
  },
  "language_info": {
   "codemirror_mode": {
    "name": "ipython",
    "version": 3
   },
   "file_extension": ".py",
   "mimetype": "text/x-python",
   "name": "python",
   "nbconvert_exporter": "python",
   "pygments_lexer": "ipython3",
   "version": "3.11.3"
  }
 },
 "nbformat": 4,
 "nbformat_minor": 5
}
