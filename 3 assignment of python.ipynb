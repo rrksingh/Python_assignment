{
 "cells": [
  {
   "cell_type": "markdown",
   "id": "bc09c9e2",
   "metadata": {},
   "source": [
    "# Python Assignment 3"
   ]
  },
  {
   "cell_type": "markdown",
   "id": "69f34f5a",
   "metadata": {},
   "source": [
    "## Q1 :Create an empty set. Prompt the user to enter a number between 1-99. Add the numbers in the set. Repeat 5 times\n"
   ]
  },
  {
   "cell_type": "code",
   "execution_count": 1,
   "id": "4c9904ae",
   "metadata": {},
   "outputs": [],
   "source": [
    "set_A= set()"
   ]
  },
  {
   "cell_type": "code",
   "execution_count": 2,
   "id": "8b35b2fd",
   "metadata": {},
   "outputs": [
    {
     "name": "stdout",
     "output_type": "stream",
     "text": [
      "enter number from 1-99:10\n",
      "enter number from 1-99:14\n",
      "enter number from 1-99:89\n",
      "enter number from 1-99:75\n",
      "enter number from 1-99:65\n"
     ]
    }
   ],
   "source": [
    "set_A={input('enter number from 1-99:'),\n",
    "      input('enter number from 1-99:'),\n",
    "      input('enter number from 1-99:'),\n",
    "      input('enter number from 1-99:'),\n",
    "      input('enter number from 1-99:')}"
   ]
  },
  {
   "cell_type": "code",
   "execution_count": 3,
   "id": "b6430b27",
   "metadata": {},
   "outputs": [
    {
     "data": {
      "text/plain": [
       "{'10', '14', '65', '75', '89'}"
      ]
     },
     "execution_count": 3,
     "metadata": {},
     "output_type": "execute_result"
    }
   ],
   "source": [
    "set_A"
   ]
  },
  {
   "cell_type": "markdown",
   "id": "8c9d3de6",
   "metadata": {},
   "source": [
    "## Q2: Print the length of the set."
   ]
  },
  {
   "cell_type": "code",
   "execution_count": 4,
   "id": "56e1890b",
   "metadata": {},
   "outputs": [
    {
     "data": {
      "text/plain": [
       "5"
      ]
     },
     "execution_count": 4,
     "metadata": {},
     "output_type": "execute_result"
    }
   ],
   "source": [
    "len(set_A)"
   ]
  },
  {
   "cell_type": "markdown",
   "id": "8eb566a1",
   "metadata": {},
   "source": [
    "## Q3:If the length is less than 5 elements, prompt the user again to enter more numbers"
   ]
  },
  {
   "cell_type": "markdown",
   "id": "e894e398",
   "metadata": {},
   "source": [
    "### answer: Here length is 5."
   ]
  },
  {
   "cell_type": "markdown",
   "id": "0f1428e8",
   "metadata": {},
   "source": [
    "## Q4:Create another empty set and prompt the user to enter any number between 1-99. Add the numbers in the set.Repeat 5 times"
   ]
  },
  {
   "cell_type": "code",
   "execution_count": 5,
   "id": "0278c485",
   "metadata": {},
   "outputs": [
    {
     "name": "stdout",
     "output_type": "stream",
     "text": [
      "enter number from 1-99:45\n",
      "enter number from 1-99:26\n",
      "enter number from 1-99:10\n",
      "enter number from 1-99:98\n",
      "enter number from 1-99:62\n"
     ]
    }
   ],
   "source": [
    "set_B={input('enter number from 1-99:'),\n",
    "      input('enter number from 1-99:'),\n",
    "      input('enter number from 1-99:'),\n",
    "      input('enter number from 1-99:'),\n",
    "      input('enter number from 1-99:')}"
   ]
  },
  {
   "cell_type": "code",
   "execution_count": 6,
   "id": "92e4a21c",
   "metadata": {},
   "outputs": [
    {
     "data": {
      "text/plain": [
       "{'10', '26', '45', '62', '98'}"
      ]
     },
     "execution_count": 6,
     "metadata": {},
     "output_type": "execute_result"
    }
   ],
   "source": [
    "set_B"
   ]
  },
  {
   "cell_type": "markdown",
   "id": "821f8389",
   "metadata": {},
   "source": [
    "## Q5:Check for the following"
   ]
  },
  {
   "cell_type": "markdown",
   "id": "44c31f9e",
   "metadata": {},
   "source": [
    "### Q-a: Does both the sets have any numbers in common?"
   ]
  },
  {
   "cell_type": "code",
   "execution_count": 7,
   "id": "b959cda3",
   "metadata": {},
   "outputs": [],
   "source": [
    "set_C=set_A.intersection(set_B)"
   ]
  },
  {
   "cell_type": "code",
   "execution_count": 8,
   "id": "cc83ed53",
   "metadata": {},
   "outputs": [
    {
     "data": {
      "text/plain": [
       "{'10'}"
      ]
     },
     "execution_count": 8,
     "metadata": {},
     "output_type": "execute_result"
    }
   ],
   "source": [
    "set_C"
   ]
  },
  {
   "cell_type": "markdown",
   "id": "5569fd54",
   "metadata": {},
   "source": [
    "### Q-b: Are both sets disjoint?\n"
   ]
  },
  {
   "cell_type": "code",
   "execution_count": 9,
   "id": "d9cfdd12",
   "metadata": {},
   "outputs": [
    {
     "data": {
      "text/plain": [
       "False"
      ]
     },
     "execution_count": 9,
     "metadata": {},
     "output_type": "execute_result"
    }
   ],
   "source": [
    "set_A.isdisjoint(set_B)"
   ]
  },
  {
   "cell_type": "markdown",
   "id": "39f1960e",
   "metadata": {},
   "source": [
    "## Q6:From the two sets, get the elements which are unique to each set (only present in either of the set)."
   ]
  },
  {
   "cell_type": "code",
   "execution_count": 10,
   "id": "a6a1a42d",
   "metadata": {},
   "outputs": [
    {
     "data": {
      "text/plain": [
       "{'10', '14', '26', '45', '62', '65', '75', '89', '98'}"
      ]
     },
     "execution_count": 10,
     "metadata": {},
     "output_type": "execute_result"
    }
   ],
   "source": [
    "set_A.union(set_B)"
   ]
  },
  {
   "cell_type": "markdown",
   "id": "186785f9",
   "metadata": {},
   "source": [
    "## Q7: Create a set containing names of any 10 animals.\n"
   ]
  },
  {
   "cell_type": "code",
   "execution_count": 11,
   "id": "753d731e",
   "metadata": {},
   "outputs": [],
   "source": [
    "set_animal={'Dog','Cow','Cat','Horse',\n",
    "'Donkey','Tiger','Lion','Panther'\n",
    ",'Leopard','Cheetah','Bear','Elephant'}"
   ]
  },
  {
   "cell_type": "markdown",
   "id": "7d765d92",
   "metadata": {},
   "source": [
    "## Q8:Create an empty set. Prompt the user to enter their favourite animal."
   ]
  },
  {
   "cell_type": "code",
   "execution_count": 12,
   "id": "ef63d0eb",
   "metadata": {},
   "outputs": [],
   "source": [
    "set_animal_fav=set()"
   ]
  },
  {
   "cell_type": "code",
   "execution_count": 13,
   "id": "5c9204b2",
   "metadata": {},
   "outputs": [
    {
     "name": "stdout",
     "output_type": "stream",
     "text": [
      "enter your favorite animal:Dog\n"
     ]
    }
   ],
   "source": [
    "set_animal_fav={input('enter your favorite animal:')}"
   ]
  },
  {
   "cell_type": "code",
   "execution_count": 14,
   "id": "0954c18b",
   "metadata": {},
   "outputs": [
    {
     "data": {
      "text/plain": [
       "{'Dog'}"
      ]
     },
     "execution_count": 14,
     "metadata": {},
     "output_type": "execute_result"
    }
   ],
   "source": [
    "set_animal_fav"
   ]
  },
  {
   "cell_type": "markdown",
   "id": "808bcee4",
   "metadata": {},
   "source": [
    "## Q9: Does their favourite animal exists in the set created by you?"
   ]
  },
  {
   "cell_type": "code",
   "execution_count": 15,
   "id": "364502d2",
   "metadata": {},
   "outputs": [
    {
     "data": {
      "text/plain": [
       "True"
      ]
     },
     "execution_count": 15,
     "metadata": {},
     "output_type": "execute_result"
    }
   ],
   "source": [
    "set_animal_fav.issubset(set_animal)"
   ]
  },
  {
   "cell_type": "code",
   "execution_count": null,
   "id": "8dfd7749",
   "metadata": {},
   "outputs": [],
   "source": []
  }
 ],
 "metadata": {
  "kernelspec": {
   "display_name": "Python 3 (ipykernel)",
   "language": "python",
   "name": "python3"
  },
  "language_info": {
   "codemirror_mode": {
    "name": "ipython",
    "version": 3
   },
   "file_extension": ".py",
   "mimetype": "text/x-python",
   "name": "python",
   "nbconvert_exporter": "python",
   "pygments_lexer": "ipython3",
   "version": "3.11.3"
  }
 },
 "nbformat": 4,
 "nbformat_minor": 5
}
