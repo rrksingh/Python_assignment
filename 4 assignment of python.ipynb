{
 "cells": [
  {
   "cell_type": "markdown",
   "id": "27ccedfe",
   "metadata": {},
   "source": [
    "# Python Assignment 4"
   ]
  },
  {
   "cell_type": "markdown",
   "id": "c797154b",
   "metadata": {},
   "source": [
    "## Copy the following code in one cell and run in your Notebook to Enter entries. Enter any 5 random Entries."
   ]
  },
  {
   "cell_type": "code",
   "execution_count": 3,
   "id": "8fcd546d",
   "metadata": {},
   "outputs": [
    {
     "name": "stdout",
     "output_type": "stream",
     "text": [
      "Please enter the First and Last name separated by space (or type \"exit\" to quit): RRK\n",
      "Please enter the phone number: 852369\n",
      "Please enter your location: patna\n",
      "Please enter the First and Last name separated by space (or type \"exit\" to quit): Munna\n",
      "Please enter the phone number: 879461\n",
      "Please enter your location: Laxmi nagar\n",
      "Please enter the First and Last name separated by space (or type \"exit\" to quit): Sohan\n",
      "Please enter the phone number: 852639\n",
      "Please enter your location: Delhi\n",
      "Please enter the First and Last name separated by space (or type \"exit\" to quit): Rohit\n",
      "Please enter the phone number: 745698\n",
      "Please enter your location: Delhi\n",
      "Please enter the First and Last name separated by space (or type \"exit\" to quit): Ravi\n",
      "Please enter the phone number: 784569\n",
      "Please enter your location: Laxmi nagar\n",
      "Please enter the First and Last name separated by space (or type \"exit\" to quit): exit\n"
     ]
    },
    {
     "data": {
      "text/plain": [
       "{'RRK': [{'address': 'patna', 'number': '852369'}],\n",
       " 'Munna': [{'address': 'Laxmi nagar', 'number': '879461'}],\n",
       " 'Sohan': [{'address': 'Delhi', 'number': '852639'}],\n",
       " 'Rohit': [{'address': 'Delhi', 'number': '745698'}],\n",
       " 'Ravi': [{'address': 'Laxmi nagar', 'number': '784569'}]}"
      ]
     },
     "execution_count": 3,
     "metadata": {},
     "output_type": "execute_result"
    }
   ],
   "source": [
    "book = {} \n",
    "def info_book(): \n",
    "    \"\"\"Creates a phone book with names as key and a list of dictionaries as values\"\"\" \n",
    "    while True: \n",
    "        names = input('Please enter the First and Last name separated by space (or type \"exit\" to quit): ') \n",
    "        if names.lower() == 'exit': \n",
    "            break \n",
    "        number = input('Please enter the phone number: ') \n",
    "        address = input('Please enter your location: ') \n",
    "        full_name = \" \".join(names.split()) \n",
    "# Check if the full name exists in the phone book \n",
    "        if full_name in book: \n",
    "# If the name exists , append the new entry to the existing list of entries \n",
    "            book[full_name].append({ 'address' : address, 'number' : number }) \n",
    "        else : \n",
    "# If the name does not exist, create a new entry with a list containing the dictionary \n",
    "             book[full_name] = [{ 'address' : address, 'number' : number }] \n",
    "    \n",
    "    return book \n",
    "info_book() \n"
   ]
  },
  {
   "cell_type": "markdown",
   "id": "fe19bb26",
   "metadata": {},
   "source": [
    "## Q1:. Print all the names in the above dictionary."
   ]
  },
  {
   "cell_type": "code",
   "execution_count": 4,
   "id": "cfb113e4",
   "metadata": {},
   "outputs": [
    {
     "data": {
      "text/plain": [
       "dict_keys(['RRK', 'Munna', 'Sohan', 'Rohit', 'Ravi'])"
      ]
     },
     "execution_count": 4,
     "metadata": {},
     "output_type": "execute_result"
    }
   ],
   "source": [
    "book.keys()"
   ]
  },
  {
   "cell_type": "markdown",
   "id": "6e183839",
   "metadata": {},
   "source": [
    "## Q2:. Print all the values associated with the names."
   ]
  },
  {
   "cell_type": "code",
   "execution_count": 5,
   "id": "65947331",
   "metadata": {},
   "outputs": [
    {
     "data": {
      "text/plain": [
       "dict_items([('RRK', [{'address': 'patna', 'number': '852369'}]), ('Munna', [{'address': 'Laxmi nagar', 'number': '879461'}]), ('Sohan', [{'address': 'Delhi', 'number': '852639'}]), ('Rohit', [{'address': 'Delhi', 'number': '745698'}]), ('Ravi', [{'address': 'Laxmi nagar', 'number': '784569'}])])"
      ]
     },
     "execution_count": 5,
     "metadata": {},
     "output_type": "execute_result"
    }
   ],
   "source": [
    "book.items()"
   ]
  },
  {
   "cell_type": "markdown",
   "id": "07e7ea60",
   "metadata": {},
   "source": [
    "## Q3:You want to enter one more Name but the number and address are not known yet. Add the new name with no values in the above dictionary."
   ]
  },
  {
   "cell_type": "code",
   "execution_count": 6,
   "id": "60d3084b",
   "metadata": {},
   "outputs": [],
   "source": [
    "book.setdefault('Amit')"
   ]
  },
  {
   "cell_type": "code",
   "execution_count": 7,
   "id": "e0c47813",
   "metadata": {},
   "outputs": [
    {
     "data": {
      "text/plain": [
       "{'RRK': [{'address': 'patna', 'number': '852369'}],\n",
       " 'Munna': [{'address': 'Laxmi nagar', 'number': '879461'}],\n",
       " 'Sohan': [{'address': 'Delhi', 'number': '852639'}],\n",
       " 'Rohit': [{'address': 'Delhi', 'number': '745698'}],\n",
       " 'Ravi': [{'address': 'Laxmi nagar', 'number': '784569'}],\n",
       " 'Amit': None}"
      ]
     },
     "execution_count": 7,
     "metadata": {},
     "output_type": "execute_result"
    }
   ],
   "source": [
    "book"
   ]
  },
  {
   "cell_type": "markdown",
   "id": "e4b5dd57",
   "metadata": {},
   "source": [
    "## Q4:Add a candidate with the name ‘Matt Daemon’ whose number is 555010898 and lives in Pune to the book dictionary."
   ]
  },
  {
   "cell_type": "code",
   "execution_count": 8,
   "id": "4edd2a3f",
   "metadata": {},
   "outputs": [],
   "source": [
    " #new_name = {'Matt Daemon':[{'address':'Pune','number':555010898}]}"
   ]
  },
  {
   "cell_type": "code",
   "execution_count": 10,
   "id": "ea6afac5",
   "metadata": {},
   "outputs": [
    {
     "name": "stdout",
     "output_type": "stream",
     "text": [
      "Please enter the First and Last name separated by space (or type \"exit\" to quit): Matt Daemon\n",
      "Please enter the phone number: 555010898\n",
      "Please enter your location: Pune\n",
      "Please enter the First and Last name separated by space (or type \"exit\" to quit): exit\n"
     ]
    },
    {
     "data": {
      "text/plain": [
       "{'RRK': [{'address': 'patna', 'number': '852369'}],\n",
       " 'Munna': [{'address': 'Laxmi nagar', 'number': '879461'}],\n",
       " 'Sohan': [{'address': 'Delhi', 'number': '852639'}],\n",
       " 'Rohit': [{'address': 'Delhi', 'number': '745698'}],\n",
       " 'Ravi': [{'address': 'Laxmi nagar', 'number': '784569'}],\n",
       " 'Amit': None,\n",
       " 'Sahil': [{'address': 'Mumbai', 'number': '632598'}],\n",
       " 'Matt Daemon': [{'address': 'Pune', 'number': '555010898'}]}"
      ]
     },
     "execution_count": 10,
     "metadata": {},
     "output_type": "execute_result"
    }
   ],
   "source": [
    "info_book()"
   ]
  },
  {
   "cell_type": "markdown",
   "id": "dd129f98",
   "metadata": {},
   "source": [
    "## Q5:Matt Daemon has relocated to New York and his new number is 444333888. Change his number and address in the dictionary"
   ]
  },
  {
   "cell_type": "code",
   "execution_count": 12,
   "id": "d8388fa5",
   "metadata": {},
   "outputs": [],
   "source": [
    "book.update({'Matt Daemon':[{'address':'New York','number':444333888}]})"
   ]
  },
  {
   "cell_type": "code",
   "execution_count": 13,
   "id": "49fed387",
   "metadata": {},
   "outputs": [
    {
     "data": {
      "text/plain": [
       "{'RRK': [{'address': 'patna', 'number': '852369'}],\n",
       " 'Munna': [{'address': 'Laxmi nagar', 'number': '879461'}],\n",
       " 'Sohan': [{'address': 'Delhi', 'number': '852639'}],\n",
       " 'Rohit': [{'address': 'Delhi', 'number': '745698'}],\n",
       " 'Ravi': [{'address': 'Laxmi nagar', 'number': '784569'}],\n",
       " 'Amit': None,\n",
       " 'Sahil': [{'address': 'Mumbai', 'number': '632598'}],\n",
       " 'Matt Daemon': [{'address': 'New York', 'number': 444333888}]}"
      ]
     },
     "execution_count": 13,
     "metadata": {},
     "output_type": "execute_result"
    }
   ],
   "source": [
    "book"
   ]
  },
  {
   "cell_type": "markdown",
   "id": "f21d54e8",
   "metadata": {},
   "source": [
    "## Q6:Given below is another information stored in dictionary made by your colleague. Add/Merge these values to you existing book dictionary."
   ]
  },
  {
   "cell_type": "code",
   "execution_count": 20,
   "id": "dc275f23",
   "metadata": {},
   "outputs": [],
   "source": [
    "merge={'Jon Snow': [{'address': 'Sydney', 'number': '500600700'}],\n",
    "'Thomas Shelby': [{'address': 'Birmingham', 'number': '888000111'}],\n",
    "'Alex Botez': [{'address': 'California', 'number': '464555202'}],\n",
    "'Vidit Gujarati': [{'address': 'Mumbai', 'number': '7711155530'}],\n",
    "'Manasi Joshi': [{'address': 'Delhi', 'number': '8000500023'}]}"
   ]
  },
  {
   "cell_type": "code",
   "execution_count": 21,
   "id": "18dbbcaf",
   "metadata": {},
   "outputs": [],
   "source": [
    "book.update(merge)"
   ]
  },
  {
   "cell_type": "code",
   "execution_count": 22,
   "id": "7f230192",
   "metadata": {},
   "outputs": [
    {
     "data": {
      "text/plain": [
       "{'RRK': [{'address': 'patna', 'number': '852369'}],\n",
       " 'Munna': [{'address': 'Laxmi nagar', 'number': '879461'}],\n",
       " 'Sohan': [{'address': 'Delhi', 'number': '852639'}],\n",
       " 'Rohit': [{'address': 'Delhi', 'number': '745698'}],\n",
       " 'Ravi': [{'address': 'Laxmi nagar', 'number': '784569'}],\n",
       " 'Amit': None,\n",
       " 'Sahil': [{'address': 'Mumbai', 'number': '632598'}],\n",
       " 'Matt Daemon': [{'address': 'New York', 'number': 444333888}],\n",
       " 'Thomas Shelby': [{'address': 'Birmingham', 'number': '888000111'}],\n",
       " 'Alex Botez': [{'address': 'California', 'number': '464555202'}],\n",
       " 'Vidit Gujarati': [{'address': 'Mumbai', 'number': '7711155530'}],\n",
       " 'Manasi Joshi': [{'address': 'Delhi', 'number': '8000500023'}],\n",
       " 'Jon Snow': [{'address': 'Sydney', 'number': '500600700'}]}"
      ]
     },
     "execution_count": 22,
     "metadata": {},
     "output_type": "execute_result"
    }
   ],
   "source": [
    "book"
   ]
  },
  {
   "cell_type": "markdown",
   "id": "a57da2d9",
   "metadata": {},
   "source": [
    "## Q7. Jon Snow has ended membership from your organization. Remove his entry and details from your dictionary."
   ]
  },
  {
   "cell_type": "code",
   "execution_count": 23,
   "id": "935bc7e5",
   "metadata": {},
   "outputs": [
    {
     "data": {
      "text/plain": [
       "[{'address': 'Sydney', 'number': '500600700'}]"
      ]
     },
     "execution_count": 23,
     "metadata": {},
     "output_type": "execute_result"
    }
   ],
   "source": [
    "book.pop('Jon Snow')"
   ]
  },
  {
   "cell_type": "code",
   "execution_count": 24,
   "id": "8304068d",
   "metadata": {},
   "outputs": [
    {
     "data": {
      "text/plain": [
       "{'RRK': [{'address': 'patna', 'number': '852369'}],\n",
       " 'Munna': [{'address': 'Laxmi nagar', 'number': '879461'}],\n",
       " 'Sohan': [{'address': 'Delhi', 'number': '852639'}],\n",
       " 'Rohit': [{'address': 'Delhi', 'number': '745698'}],\n",
       " 'Ravi': [{'address': 'Laxmi nagar', 'number': '784569'}],\n",
       " 'Amit': None,\n",
       " 'Sahil': [{'address': 'Mumbai', 'number': '632598'}],\n",
       " 'Matt Daemon': [{'address': 'New York', 'number': 444333888}],\n",
       " 'Thomas Shelby': [{'address': 'Birmingham', 'number': '888000111'}],\n",
       " 'Alex Botez': [{'address': 'California', 'number': '464555202'}],\n",
       " 'Vidit Gujarati': [{'address': 'Mumbai', 'number': '7711155530'}],\n",
       " 'Manasi Joshi': [{'address': 'Delhi', 'number': '8000500023'}]}"
      ]
     },
     "execution_count": 24,
     "metadata": {},
     "output_type": "execute_result"
    }
   ],
   "source": [
    "book"
   ]
  },
  {
   "cell_type": "markdown",
   "id": "2c809497",
   "metadata": {},
   "source": [
    "## Q8:Check/Print how many entries you have in your dictionary."
   ]
  },
  {
   "cell_type": "code",
   "execution_count": 48,
   "id": "64a923a4",
   "metadata": {},
   "outputs": [
    {
     "data": {
      "text/plain": [
       "12"
      ]
     },
     "execution_count": 48,
     "metadata": {},
     "output_type": "execute_result"
    }
   ],
   "source": [
    "len(book)"
   ]
  },
  {
   "cell_type": "code",
   "execution_count": null,
   "id": "e65b6527",
   "metadata": {},
   "outputs": [],
   "source": []
  }
 ],
 "metadata": {
  "kernelspec": {
   "display_name": "Python 3 (ipykernel)",
   "language": "python",
   "name": "python3"
  },
  "language_info": {
   "codemirror_mode": {
    "name": "ipython",
    "version": 3
   },
   "file_extension": ".py",
   "mimetype": "text/x-python",
   "name": "python",
   "nbconvert_exporter": "python",
   "pygments_lexer": "ipython3",
   "version": "3.11.3"
  }
 },
 "nbformat": 4,
 "nbformat_minor": 5
}
